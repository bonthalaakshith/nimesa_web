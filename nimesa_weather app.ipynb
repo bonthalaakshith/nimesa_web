{
 "cells": [
  {
   "cell_type": "code",
   "execution_count": null,
   "id": "e217b8a1",
   "metadata": {},
   "outputs": [
    {
     "name": "stdout",
     "output_type": "stream",
     "text": [
      "\n",
      "Menu:\n",
      "1. Get Temperature\n",
      "2. Get Wind Speed\n",
      "3. Get Pressure\n",
      "0. Exit\n",
      "Enter your choice: 1\n",
      "Enter the date (YYYY-MM-DD): 23-06-2021\n",
      "Date not found in the forecast.\n",
      "\n",
      "Menu:\n",
      "1. Get Temperature\n",
      "2. Get Wind Speed\n",
      "3. Get Pressure\n",
      "0. Exit\n",
      "Enter your choice: 2\n",
      "Enter the date (YYYY-MM-DD): 2021-06-23\n",
      "Date not found in the forecast.\n",
      "\n",
      "Menu:\n",
      "1. Get Temperature\n",
      "2. Get Wind Speed\n",
      "3. Get Pressure\n",
      "0. Exit\n"
     ]
    }
   ],
   "source": [
    "import requests\n",
    "\n",
    "API_URL = \"https://samples.openweathermap.org/data/2.5/forecast/hourly?q=London,us&appid=b6907d289e10d714a6e88b30761fae22\"\n",
    "\n",
    "def fetch_weather_data():\n",
    "    response = requests.get(API_URL)\n",
    "    return response.json()\n",
    "\n",
    "def display_weather_info(weather_info, date, info_type, unit):\n",
    "    for entry in weather_info[\"list\"]:\n",
    "        if entry[\"dt_txt\"].startswith(date):\n",
    "            value = entry[\"main\"][unit]\n",
    "            print(f\"{info_type} on {date}: {value} {unit}\")\n",
    "            return\n",
    "    else:\n",
    "        print(\"Date not found in the forecast.\")\n",
    "\n",
    "def main():\n",
    "    while True:\n",
    "        print(\"\\nMenu:\")\n",
    "        print(\"1. Get Temperature\")\n",
    "        print(\"2. Get Wind Speed\")\n",
    "        print(\"3. Get Pressure\")\n",
    "        print(\"0. Exit\")\n",
    "\n",
    "        choice = input(\"Enter your choice: \")\n",
    "\n",
    "        if choice == \"0\":\n",
    "            print(\"Exiting the program.\")\n",
    "            break\n",
    "        elif choice in [\"1\", \"2\", \"3\"]:\n",
    "            date = input(\"Enter the date (YYYY-MM-DD): \")\n",
    "            weather_data = fetch_weather_data()\n",
    "            \n",
    "            if choice == \"1\":\n",
    "                display_weather_info(weather_data, date, \"Temperature\", \"temp\")\n",
    "            elif choice == \"2\":\n",
    "                display_weather_info(weather_data, date, \"Wind Speed\", \"speed\")\n",
    "            elif choice == \"3\":\n",
    "                display_weather_info(weather_data, date, \"Pressure\", \"pressure\")\n",
    "        else:\n",
    "            print(\"Invalid choice. Please try again.\")\n",
    "\n",
    "if __name__ == \"__main__\":\n",
    "    main()\n"
   ]
  },
  {
   "cell_type": "code",
   "execution_count": null,
   "id": "c3eee0e5",
   "metadata": {},
   "outputs": [],
   "source": []
  }
 ],
 "metadata": {
  "kernelspec": {
   "display_name": "Python 3 (ipykernel)",
   "language": "python",
   "name": "python3"
  },
  "language_info": {
   "codemirror_mode": {
    "name": "ipython",
    "version": 3
   },
   "file_extension": ".py",
   "mimetype": "text/x-python",
   "name": "python",
   "nbconvert_exporter": "python",
   "pygments_lexer": "ipython3",
   "version": "3.9.13"
  }
 },
 "nbformat": 4,
 "nbformat_minor": 5
}
